﻿{
 "cells": [
  {
   "cell_type": "code",
   "execution_count": 1,
   "id": "78edc079",
   "metadata": {
    "_cell_guid": "b1076dfc-b9ad-4769-8c92-a6c4dae69d19",
    "_uuid": "8f2839f25d086af736a60e9eeb907d3b93b6e0e5",
    "execution": {
     "iopub.execute_input": "2022-01-25T13:06:26.049814Z",
     "iopub.status.busy": "2022-01-25T13:06:26.048591Z",
     "iopub.status.idle": "2022-01-25T13:06:26.064107Z",
     "shell.execute_reply": "2022-01-25T13:06:26.064860Z",
     "shell.execute_reply.started": "2022-01-25T13:02:10.368906Z"
    },
    "papermill": {
     "duration": 0.061944,
     "end_time": "2022-01-25T13:06:26.065320",
     "exception": false,
     "start_time": "2022-01-25T13:06:26.003376",
     "status": "completed"
    },
    "tags": []
   },
   "outputs": [
    {
     "name": "stdout",
     "output_type": "stream",
     "text": [
      "/kaggle/input/nlp-getting-started/sample_submission.csv\n",
      "/kaggle/input/nlp-getting-started/train.csv\n",
      "/kaggle/input/nlp-getting-started/test.csv\n"
     ]
    }
   ],
   "source": [
    "# This Python 3 environment comes with many helpful analytics libraries installed\n",
    "# It is defined by the kaggle/python Docker image: https://github.com/kaggle/docker-python\n",
    "# For example, here's several helpful packages to load\n",
    "\n",
    "import numpy as np # linear algebra\n",
    "import pandas as pd # data processing, CSV file I/O (e.g. pd.read_csv)\n",
    "\n",
    "# Input data files are available in the read-only \"../input/\" directory\n",
    "# For example, running this (by clicking run or pressing Shift+Enter) will list all files under the input directory\n",
    "\n",
    "import os\n",
    "for dirname, _, filenames in os.walk('/kaggle/input'):\n",
    "    for filename in filenames:\n",
    "        print(os.path.join(dirname, filename))\n",
    "\n",
    "# You can write up to 20GB to the current directory (/kaggle/working/) that gets preserved as output when you create a version using \"Save & Run All\" \n",
    "# You can also write temporary files to /kaggle/temp/, but they won't be saved outside of the current session"
   ]
  },
  {
   "cell_type": "code",
   "execution_count": 2,
   "id": "7a0adeaf",
   "metadata": {
    "execution": {
     "iopub.execute_input": "2022-01-25T13:06:26.152898Z",
     "iopub.status.busy": "2022-01-25T13:06:26.151668Z",
     "iopub.status.idle": "2022-01-25T13:06:26.153746Z",
     "shell.execute_reply": "2022-01-25T13:06:26.154260Z",
     "shell.execute_reply.started": "2022-01-25T13:02:10.382568Z"
    },
    "papermill": {
     "duration": 0.048005,
     "end_time": "2022-01-25T13:06:26.154466",
     "exception": false,
     "start_time": "2022-01-25T13:06:26.106461",
     "status": "completed"
    },
    "tags": []
   },
   "outputs": [],
   "source": [
    "import pandas as pd\n",
    "import numpy as np\n",
    "import matplotlib.pyplot as plt"
   ]
  },
  {
   "cell_type": "code",
   "execution_count": 3,
   "id": "0141bf07",
   "metadata": {
    "execution": {
     "iopub.execute_input": "2022-01-25T13:06:26.241730Z",
     "iopub.status.busy": "2022-01-25T13:06:26.240397Z",
     "iopub.status.idle": "2022-01-25T13:06:26.320596Z",
     "shell.execute_reply": "2022-01-25T13:06:26.321182Z",
     "shell.execute_reply.started": "2022-01-25T13:02:10.393306Z"
    },
    "papermill": {
     "duration": 0.124789,
     "end_time": "2022-01-25T13:06:26.321417",
     "exception": false,
     "start_time": "2022-01-25T13:06:26.196628",
     "status": "completed"
    },
    "tags": []
   },
   "outputs": [],
   "source": [
    "train = pd.read_csv(\"../input/nlp-getting-started/train.csv\")\n",
    "test = pd.read_csv(\"../input/nlp-getting-started/test.csv\")"
   ]
  },
  {
   "cell_type": "code",
   "execution_count": 4,
   "id": "389e6caf",
   "metadata": {
    "execution": {
     "iopub.execute_input": "2022-01-25T13:06:26.406626Z",
     "iopub.status.busy": "2022-01-25T13:06:26.405556Z",
     "iopub.status.idle": "2022-01-25T13:06:26.420294Z",
     "shell.execute_reply": "2022-01-25T13:06:26.420798Z",
     "shell.execute_reply.started": "2022-01-25T13:02:10.449443Z"
    },
    "papermill": {
     "duration": 0.059396,
     "end_time": "2022-01-25T13:06:26.421013",
     "exception": false,
     "start_time": "2022-01-25T13:06:26.361617",
     "status": "completed"
    },
    "tags": []
   },
   "outputs": [
    {
     "data": {
      "text/plain": [
       "'Our Deeds are the Reason of this #earthquake May ALLAH Forgive us all'"
      ]
     },
     "execution_count": 4,
     "metadata": {},
     "output_type": "execute_result"
    }
   ],
   "source": [
    "train[\"text\"][0]"
   ]
  },
  {
   "cell_type": "code",
   "execution_count": 5,
   "id": "50278bf9",
   "metadata": {
    "execution": {
     "iopub.execute_input": "2022-01-25T13:06:26.513904Z",
     "iopub.status.busy": "2022-01-25T13:06:26.513173Z",
     "iopub.status.idle": "2022-01-25T13:06:26.516426Z",
     "shell.execute_reply": "2022-01-25T13:06:26.516918Z",
     "shell.execute_reply.started": "2022-01-25T13:02:10.457055Z"
    },
    "papermill": {
     "duration": 0.056117,
     "end_time": "2022-01-25T13:06:26.517132",
     "exception": false,
     "start_time": "2022-01-25T13:06:26.461015",
     "status": "completed"
    },
    "tags": []
   },
   "outputs": [
    {
     "data": {
      "text/plain": [
       "0    4342\n",
       "1    3271\n",
       "Name: target, dtype: int64"
      ]
     },
     "execution_count": 5,
     "metadata": {},
     "output_type": "execute_result"
    }
   ],
   "source": [
    "train[\"target\"].value_counts()"
   ]
  },
  {
   "cell_type": "code",
   "execution_count": 6,
   "id": "c8b7cdde",
   "metadata": {
    "execution": {
     "iopub.execute_input": "2022-01-25T13:06:26.602617Z",
     "iopub.status.busy": "2022-01-25T13:06:26.601785Z",
     "iopub.status.idle": "2022-01-25T13:06:26.846164Z",
     "shell.execute_reply": "2022-01-25T13:06:26.845402Z",
     "shell.execute_reply.started": "2022-01-25T13:02:10.475202Z"
    },
    "papermill": {
     "duration": 0.288606,
     "end_time": "2022-01-25T13:06:26.846338",
     "exception": false,
     "start_time": "2022-01-25T13:06:26.557732",
     "status": "completed"
    },
    "tags": []
   },
   "outputs": [
    {
     "data": {
      "text/plain": [
       "<AxesSubplot:>"
      ]
     },
     "execution_count": 6,
     "metadata": {},
     "output_type": "execute_result"
    },
    {
     "data": {
      "image/png": "[encoded data removed]",
      "text/plain": [
       "<Figure size 432x288 with 1 Axes>"
      ]
     },
     "metadata": {
      "needs_background": "light"
     },
     "output_type": "display_data"
    }
   ],
   "source": [
    "train[\"target\"].value_counts().plot.bar()"
   ]
  },
  {
   "cell_type": "code",
   "execution_count": 7,
   "id": "73de7064",
   "metadata": {
    "execution": {
     "iopub.execute_input": "2022-01-25T13:06:26.938128Z",
     "iopub.status.busy": "2022-01-25T13:06:26.937030Z",
     "iopub.status.idle": "2022-01-25T13:06:26.952423Z",
     "shell.execute_reply": "2022-01-25T13:06:26.953186Z",
     "shell.execute_reply.started": "2022-01-25T13:02:10.727620Z"
    },
    "papermill": {
     "duration": 0.065676,
     "end_time": "2022-01-25T13:06:26.953428",
     "exception": false,
     "start_time": "2022-01-25T13:06:26.887752",
     "status": "completed"
    },
    "tags": []
   },
   "outputs": [
    {
     "name": "stderr",
     "output_type": "stream",
     "text": [
      "/opt/conda/lib/python3.7/site-packages/ipykernel_launcher.py:1: FutureWarning: The default value of regex will change from True to False in a future version.\n",
      "  \"\"\"Entry point for launching an IPython kernel.\n"
     ]
    },
    {
     "data": {
      "text/plain": [
       "'Our Deeds are the Reason of this #earthquake May ALLAH Forgive us all'"
      ]
     },
     "execution_count": 7,
     "metadata": {},
     "output_type": "execute_result"
    }
   ],
   "source": [
    "train[\"text\"].str.replace(r\"<#.*>\",\"\")[0]"
   ]
  },
  {
   "cell_type": "code",
   "execution_count": 8,
   "id": "a630ebbc",
   "metadata": {
    "execution": {
     "iopub.execute_input": "2022-01-25T13:06:27.046267Z",
     "iopub.status.busy": "2022-01-25T13:06:27.045182Z",
     "iopub.status.idle": "2022-01-25T13:06:27.047701Z",
     "shell.execute_reply": "2022-01-25T13:06:27.047166Z",
     "shell.execute_reply.started": "2022-01-25T13:02:10.747000Z"
    },
    "papermill": {
     "duration": 0.050769,
     "end_time": "2022-01-25T13:06:27.047866",
     "exception": false,
     "start_time": "2022-01-25T13:06:26.997097",
     "status": "completed"
    },
    "tags": []
   },
   "outputs": [],
   "source": [
    "import re"
   ]
  },
  {
   "cell_type": "code",
   "execution_count": 9,
   "id": "61a734d9",
   "metadata": {
    "execution": {
     "iopub.execute_input": "2022-01-25T13:06:27.138515Z",
     "iopub.status.busy": "2022-01-25T13:06:27.137390Z",
     "iopub.status.idle": "2022-01-25T13:06:27.139498Z",
     "shell.execute_reply": "2022-01-25T13:06:27.140122Z",
     "shell.execute_reply.started": "2022-01-25T13:02:10.757749Z"
    },
    "papermill": {
     "duration": 0.050527,
     "end_time": "2022-01-25T13:06:27.140314",
     "exception": false,
     "start_time": "2022-01-25T13:06:27.089787",
     "status": "completed"
    },
    "tags": []
   },
   "outputs": [],
   "source": [
    "def clean(t):\n",
    "    rep = re.compile(r\"<.*>\")\n",
    "    return re.sub(rep,\"\",t)"
   ]
  },
  {
   "cell_type": "code",
   "execution_count": 10,
   "id": "2ed47574",
   "metadata": {
    "execution": {
     "iopub.execute_input": "2022-01-25T13:06:27.229015Z",
     "iopub.status.busy": "2022-01-25T13:06:27.227940Z",
     "iopub.status.idle": "2022-01-25T13:06:27.232625Z",
     "shell.execute_reply": "2022-01-25T13:06:27.233287Z",
     "shell.execute_reply.started": "2022-01-25T13:02:10.773683Z"
    },
    "papermill": {
     "duration": 0.05149,
     "end_time": "2022-01-25T13:06:27.233487",
     "exception": false,
     "start_time": "2022-01-25T13:06:27.181997",
     "status": "completed"
    },
    "tags": []
   },
   "outputs": [],
   "source": [
    "def pure(t):\n",
    "    st = \"\"\n",
    "    for i in t:\n",
    "        if i.isalnum(): \n",
    "            st+=i\n",
    "        else:\n",
    "            st += \" \"\n",
    "    return st"
   ]
  },
  {
   "cell_type": "code",
   "execution_count": 11,
   "id": "0e576edd",
   "metadata": {
    "execution": {
     "iopub.execute_input": "2022-01-25T13:06:27.330099Z",
     "iopub.status.busy": "2022-01-25T13:06:27.329114Z",
     "iopub.status.idle": "2022-01-25T13:06:27.465807Z",
     "shell.execute_reply": "2022-01-25T13:06:27.465199Z",
     "shell.execute_reply.started": "2022-01-25T13:02:10.786094Z"
    },
    "papermill": {
     "duration": 0.190294,
     "end_time": "2022-01-25T13:06:27.465984",
     "exception": false,
     "start_time": "2022-01-25T13:06:27.275690",
     "status": "completed"
    },
    "tags": []
   },
   "outputs": [
    {
     "data": {
      "text/plain": [
       "'Our Deeds are the Reason of this  earthquake May ALLAH Forgive us all'"
      ]
     },
     "execution_count": 11,
     "metadata": {},
     "output_type": "execute_result"
    }
   ],
   "source": [
    "train[\"text\"].apply(pure)[0]"
   ]
  },
  {
   "cell_type": "code",
   "execution_count": 12,
   "id": "97506f5c",
   "metadata": {
    "execution": {
     "iopub.execute_input": "2022-01-25T13:06:27.558037Z",
     "iopub.status.busy": "2022-01-25T13:06:27.557035Z",
     "iopub.status.idle": "2022-01-25T13:06:27.698797Z",
     "shell.execute_reply": "2022-01-25T13:06:27.699401Z",
     "shell.execute_reply.started": "2022-01-25T13:02:10.939537Z"
    },
    "papermill": {
     "duration": 0.190795,
     "end_time": "2022-01-25T13:06:27.699632",
     "exception": false,
     "start_time": "2022-01-25T13:06:27.508837",
     "status": "completed"
    },
    "tags": []
   },
   "outputs": [],
   "source": [
    "train[\"text\"] = train[\"text\"].apply(pure)"
   ]
  },
  {
   "cell_type": "code",
   "execution_count": 13,
   "id": "0b249a05",
   "metadata": {
    "execution": {
     "iopub.execute_input": "2022-01-25T13:06:27.799118Z",
     "iopub.status.busy": "2022-01-25T13:06:27.798028Z",
     "iopub.status.idle": "2022-01-25T13:06:27.801352Z",
     "shell.execute_reply": "2022-01-25T13:06:27.800610Z",
     "shell.execute_reply.started": "2022-01-25T13:02:11.085050Z"
    },
    "papermill": {
     "duration": 0.059438,
     "end_time": "2022-01-25T13:06:27.801549",
     "exception": false,
     "start_time": "2022-01-25T13:06:27.742111",
     "status": "completed"
    },
    "tags": []
   },
   "outputs": [],
   "source": [
    "train[\"text\"] = train[\"text\"].str.lower()"
   ]
  },
  {
   "cell_type": "code",
   "execution_count": 14,
   "id": "2805e356",
   "metadata": {
    "execution": {
     "iopub.execute_input": "2022-01-25T13:06:27.893597Z",
     "iopub.status.busy": "2022-01-25T13:06:27.891770Z",
     "iopub.status.idle": "2022-01-25T13:06:29.709339Z",
     "shell.execute_reply": "2022-01-25T13:06:29.708594Z",
     "shell.execute_reply.started": "2022-01-25T13:02:11.099180Z"
    },
    "papermill": {
     "duration": 1.865058,
     "end_time": "2022-01-25T13:06:29.709506",
     "exception": false,
     "start_time": "2022-01-25T13:06:27.844448",
     "status": "completed"
    },
    "tags": []
   },
   "outputs": [],
   "source": [
    "from nltk.corpus import stopwords"
   ]
  },
  {
   "cell_type": "code",
   "execution_count": 15,
   "id": "aaa080de",
   "metadata": {
    "execution": {
     "iopub.execute_input": "2022-01-25T13:06:29.804105Z",
     "iopub.status.busy": "2022-01-25T13:06:29.803287Z",
     "iopub.status.idle": "2022-01-25T13:06:29.945231Z",
     "shell.execute_reply": "2022-01-25T13:06:29.945773Z",
     "shell.execute_reply.started": "2022-01-25T13:02:12.755517Z"
    },
    "papermill": {
     "duration": 0.192744,
     "end_time": "2022-01-25T13:06:29.945999",
     "exception": false,
     "start_time": "2022-01-25T13:06:29.753255",
     "status": "completed"
    },
    "tags": []
   },
   "outputs": [
    {
     "name": "stdout",
     "output_type": "stream",
     "text": [
      "[nltk_data] Downloading package stopwords to /usr/share/nltk_data...\n",
      "[nltk_data]   Package stopwords is already up-to-date!\n"
     ]
    },
    {
     "data": {
      "text/plain": [
       "True"
      ]
     },
     "execution_count": 15,
     "metadata": {},
     "output_type": "execute_result"
    }
   ],
   "source": [
    "import nltk as nltk\n",
    "nltk.download('stopwords')"
   ]
  },
  {
   "cell_type": "code",
   "execution_count": 16,
   "id": "fa44d732",
   "metadata": {
    "execution": {
     "iopub.execute_input": "2022-01-25T13:06:30.046460Z",
     "iopub.status.busy": "2022-01-25T13:06:30.045284Z",
     "iopub.status.idle": "2022-01-25T13:06:30.053232Z",
     "shell.execute_reply": "2022-01-25T13:06:30.053911Z",
     "shell.execute_reply.started": "2022-01-25T13:02:13.035781Z"
    },
    "papermill": {
     "duration": 0.063389,
     "end_time": "2022-01-25T13:06:30.054137",
     "exception": false,
     "start_time": "2022-01-25T13:06:29.990748",
     "status": "completed"
    },
    "tags": []
   },
   "outputs": [],
   "source": [
    "stop_words = stopwords.words(\"english\")"
   ]
  },
  {
   "cell_type": "code",
   "execution_count": 17,
   "id": "581c18b9",
   "metadata": {
    "execution": {
     "iopub.execute_input": "2022-01-25T13:06:30.146021Z",
     "iopub.status.busy": "2022-01-25T13:06:30.144800Z",
     "iopub.status.idle": "2022-01-25T13:06:30.150807Z",
     "shell.execute_reply": "2022-01-25T13:06:30.151563Z",
     "shell.execute_reply.started": "2022-01-25T13:02:13.043409Z"
    },
    "papermill": {
     "duration": 0.054029,
     "end_time": "2022-01-25T13:06:30.151786",
     "exception": false,
     "start_time": "2022-01-25T13:06:30.097757",
     "status": "completed"
    },
    "tags": []
   },
   "outputs": [
    {
     "name": "stdout",
     "output_type": "stream",
     "text": [
      "['our', 'deeds', 'are', 'the', 'reason', 'of', 'this', 'earthquake', 'may', 'allah', 'forgive', 'us', 'all']\n"
     ]
    }
   ],
   "source": [
    "print(train[\"text\"][0].split())"
   ]
  },
  {
   "cell_type": "code",
   "execution_count": 18,
   "id": "46df39c5",
   "metadata": {
    "execution": {
     "iopub.execute_input": "2022-01-25T13:06:30.244028Z",
     "iopub.status.busy": "2022-01-25T13:06:30.242924Z",
     "iopub.status.idle": "2022-01-25T13:06:30.247209Z",
     "shell.execute_reply": "2022-01-25T13:06:30.247868Z",
     "shell.execute_reply.started": "2022-01-25T13:02:13.057950Z"
    },
    "papermill": {
     "duration": 0.052172,
     "end_time": "2022-01-25T13:06:30.248076",
     "exception": false,
     "start_time": "2022-01-25T13:06:30.195904",
     "status": "completed"
    },
    "tags": []
   },
   "outputs": [],
   "source": [
    "from nltk.tokenize import word_tokenize"
   ]
  },
  {
   "cell_type": "code",
   "execution_count": 19,
   "id": "72949ed2",
   "metadata": {
    "execution": {
     "iopub.execute_input": "2022-01-25T13:06:30.339279Z",
     "iopub.status.busy": "2022-01-25T13:06:30.338179Z",
     "iopub.status.idle": "2022-01-25T13:06:30.363229Z",
     "shell.execute_reply": "2022-01-25T13:06:30.363785Z",
     "shell.execute_reply.started": "2022-01-25T13:02:13.070030Z"
    },
    "papermill": {
     "duration": 0.072669,
     "end_time": "2022-01-25T13:06:30.364010",
     "exception": false,
     "start_time": "2022-01-25T13:06:30.291341",
     "status": "completed"
    },
    "tags": []
   },
   "outputs": [
    {
     "name": "stdout",
     "output_type": "stream",
     "text": [
      "['our', 'deeds', 'are', 'the', 'reason', 'of', 'this', 'earthquake', 'may', 'allah', 'forgive', 'us', 'all']\n"
     ]
    }
   ],
   "source": [
    "print(word_tokenize(train[\"text\"][0]))"
   ]
  },
  {
   "cell_type": "code",
   "execution_count": 20,
   "id": "db174ebc",
   "metadata": {
    "execution": {
     "iopub.execute_input": "2022-01-25T13:06:30.455818Z",
     "iopub.status.busy": "2022-01-25T13:06:30.455083Z",
     "iopub.status.idle": "2022-01-25T13:06:30.524030Z",
     "shell.execute_reply": "2022-01-25T13:06:30.524745Z",
     "shell.execute_reply.started": "2022-01-25T13:02:13.097132Z"
    },
    "papermill": {
     "duration": 0.11708,
     "end_time": "2022-01-25T13:06:30.525017",
     "exception": false,
     "start_time": "2022-01-25T13:06:30.407937",
     "status": "completed"
    },
    "tags": []
   },
   "outputs": [
    {
     "name": "stdout",
     "output_type": "stream",
     "text": [
      "[nltk_data] Downloading package punkt to /usr/share/nltk_data...\n",
      "[nltk_data]   Package punkt is already up-to-date!\n"
     ]
    },
    {
     "data": {
      "text/plain": [
       "True"
      ]
     },
     "execution_count": 20,
     "metadata": {},
     "output_type": "execute_result"
    }
   ],
   "source": [
    "nltk.download('punkt')"
   ]
  },
  {
   "cell_type": "code",
   "execution_count": 21,
   "id": "f1f9cbb9",
   "metadata": {
    "execution": {
     "iopub.execute_input": "2022-01-25T13:06:30.618933Z",
     "iopub.status.busy": "2022-01-25T13:06:30.618226Z",
     "iopub.status.idle": "2022-01-25T13:06:30.622784Z",
     "shell.execute_reply": "2022-01-25T13:06:30.623414Z",
     "shell.execute_reply.started": "2022-01-25T13:02:13.173995Z"
    },
    "papermill": {
     "duration": 0.053712,
     "end_time": "2022-01-25T13:06:30.623608",
     "exception": false,
     "start_time": "2022-01-25T13:06:30.569896",
     "status": "completed"
    },
    "tags": []
   },
   "outputs": [
    {
     "name": "stdout",
     "output_type": "stream",
     "text": [
      "['our', 'deeds', 'are', 'the', 'reason', 'of', 'this', 'earthquake', 'may', 'allah', 'forgive', 'us', 'all']\n"
     ]
    }
   ],
   "source": [
    "print(word_tokenize(train[\"text\"][0]))"
   ]
  },
  {
   "cell_type": "code",
   "execution_count": 22,
   "id": "bf997bc8",
   "metadata": {
    "execution": {
     "iopub.execute_input": "2022-01-25T13:06:30.716993Z",
     "iopub.status.busy": "2022-01-25T13:06:30.716280Z",
     "iopub.status.idle": "2022-01-25T13:06:30.721028Z",
     "shell.execute_reply": "2022-01-25T13:06:30.721593Z",
     "shell.execute_reply.started": "2022-01-25T13:02:13.181403Z"
    },
    "papermill": {
     "duration": 0.053348,
     "end_time": "2022-01-25T13:06:30.721803",
     "exception": false,
     "start_time": "2022-01-25T13:06:30.668455",
     "status": "completed"
    },
    "tags": []
   },
   "outputs": [],
   "source": [
    "def rem_sw(text):\n",
    "    lst = []\n",
    "    token = word_tokenize(text)\n",
    "    sw = stopwords.words(\"english\") # list\n",
    "    for i in token:\n",
    "        if i not in sw:\n",
    "            lst.append(i)\n",
    "    return lst"
   ]
  },
  {
   "cell_type": "code",
   "execution_count": 23,
   "id": "7c2c864c",
   "metadata": {
    "execution": {
     "iopub.execute_input": "2022-01-25T13:06:30.816656Z",
     "iopub.status.busy": "2022-01-25T13:06:30.815755Z",
     "iopub.status.idle": "2022-01-25T13:06:34.147365Z",
     "shell.execute_reply": "2022-01-25T13:06:34.146692Z",
     "shell.execute_reply.started": "2022-01-25T13:02:13.194455Z"
    },
    "papermill": {
     "duration": 3.380121,
     "end_time": "2022-01-25T13:06:34.147527",
     "exception": false,
     "start_time": "2022-01-25T13:06:30.767406",
     "status": "completed"
    },
    "tags": []
   },
   "outputs": [],
   "source": [
    "train[\"text\"] = train[\"text\"].apply(rem_sw)"
   ]
  },
  {
   "cell_type": "code",
   "execution_count": 24,
   "id": "8db2389c",
   "metadata": {
    "execution": {
     "iopub.execute_input": "2022-01-25T13:06:34.241630Z",
     "iopub.status.busy": "2022-01-25T13:06:34.240834Z",
     "iopub.status.idle": "2022-01-25T13:06:34.245078Z",
     "shell.execute_reply": "2022-01-25T13:06:34.245650Z",
     "shell.execute_reply.started": "2022-01-25T13:02:16.511685Z"
    },
    "papermill": {
     "duration": 0.053511,
     "end_time": "2022-01-25T13:06:34.245872",
     "exception": false,
     "start_time": "2022-01-25T13:06:34.192361",
     "status": "completed"
    },
    "tags": []
   },
   "outputs": [],
   "source": [
    "from nltk.stem import SnowballStemmer"
   ]
  },
  {
   "cell_type": "code",
   "execution_count": 25,
   "id": "9e245b52",
   "metadata": {
    "execution": {
     "iopub.execute_input": "2022-01-25T13:06:34.339397Z",
     "iopub.status.busy": "2022-01-25T13:06:34.338609Z",
     "iopub.status.idle": "2022-01-25T13:06:34.342095Z",
     "shell.execute_reply": "2022-01-25T13:06:34.342720Z",
     "shell.execute_reply.started": "2022-01-25T13:02:16.519381Z"
    },
    "papermill": {
     "duration": 0.051946,
     "end_time": "2022-01-25T13:06:34.342970",
     "exception": false,
     "start_time": "2022-01-25T13:06:34.291024",
     "status": "completed"
    },
    "tags": []
   },
   "outputs": [],
   "source": [
    "ss = SnowballStemmer(\"english\")"
   ]
  },
  {
   "cell_type": "code",
   "execution_count": 26,
   "id": "5eb36903",
   "metadata": {
    "execution": {
     "iopub.execute_input": "2022-01-25T13:06:34.442646Z",
     "iopub.status.busy": "2022-01-25T13:06:34.441634Z",
     "iopub.status.idle": "2022-01-25T13:06:34.449425Z",
     "shell.execute_reply": "2022-01-25T13:06:34.449969Z",
     "shell.execute_reply.started": "2022-01-25T13:02:16.530801Z"
    },
    "papermill": {
     "duration": 0.062246,
     "end_time": "2022-01-25T13:06:34.450195",
     "exception": false,
     "start_time": "2022-01-25T13:06:34.387949",
     "status": "completed"
    },
    "tags": []
   },
   "outputs": [],
   "source": [
    "def stem_text(text_lst):\n",
    "    lst = []\n",
    "    ss = SnowballStemmer(\"english\")\n",
    "    for i in text_lst:\n",
    "        lst.append(ss.stem(i))\n",
    "    return \" \".join(lst)"
   ]
  },
  {
   "cell_type": "code",
   "execution_count": 27,
   "id": "cba08ef1",
   "metadata": {
    "execution": {
     "iopub.execute_input": "2022-01-25T13:06:34.564445Z",
     "iopub.status.busy": "2022-01-25T13:06:34.563361Z",
     "iopub.status.idle": "2022-01-25T13:06:34.569831Z",
     "shell.execute_reply": "2022-01-25T13:06:34.570423Z",
     "shell.execute_reply.started": "2022-01-25T13:02:16.544147Z"
    },
    "papermill": {
     "duration": 0.060416,
     "end_time": "2022-01-25T13:06:34.570624",
     "exception": false,
     "start_time": "2022-01-25T13:06:34.510208",
     "status": "completed"
    },
    "tags": []
   },
   "outputs": [
    {
     "data": {
      "text/plain": [
       "'deed reason earthquak may allah forgiv us'"
      ]
     },
     "execution_count": 27,
     "metadata": {},
     "output_type": "execute_result"
    }
   ],
   "source": [
    "stem_text(train[\"text\"][0])"
   ]
  },
  {
   "cell_type": "code",
   "execution_count": 28,
   "id": "1c0172e0",
   "metadata": {
    "execution": {
     "iopub.execute_input": "2022-01-25T13:06:34.693878Z",
     "iopub.status.busy": "2022-01-25T13:06:34.692799Z",
     "iopub.status.idle": "2022-01-25T13:06:36.098576Z",
     "shell.execute_reply": "2022-01-25T13:06:36.097961Z",
     "shell.execute_reply.started": "2022-01-25T13:02:16.559062Z"
    },
    "papermill": {
     "duration": 1.483046,
     "end_time": "2022-01-25T13:06:36.098731",
     "exception": false,
     "start_time": "2022-01-25T13:06:34.615685",
     "status": "completed"
    },
    "tags": []
   },
   "outputs": [],
   "source": [
    "train[\"text\"] = train[\"text\"].apply(stem_text)"
   ]
  },
  {
   "cell_type": "code",
   "execution_count": 29,
   "id": "b5699a04",
   "metadata": {
    "execution": {
     "iopub.execute_input": "2022-01-25T13:06:36.197517Z",
     "iopub.status.busy": "2022-01-25T13:06:36.196727Z",
     "iopub.status.idle": "2022-01-25T13:06:36.200018Z",
     "shell.execute_reply": "2022-01-25T13:06:36.200633Z",
     "shell.execute_reply.started": "2022-01-25T13:02:17.997394Z"
    },
    "papermill": {
     "duration": 0.055335,
     "end_time": "2022-01-25T13:06:36.200863",
     "exception": false,
     "start_time": "2022-01-25T13:06:36.145528",
     "status": "completed"
    },
    "tags": []
   },
   "outputs": [],
   "source": [
    "from sklearn.feature_extraction.text import CountVectorizer"
   ]
  },
  {
   "cell_type": "code",
   "execution_count": 30,
   "id": "378d30a9",
   "metadata": {
    "execution": {
     "iopub.execute_input": "2022-01-25T13:06:36.296514Z",
     "iopub.status.busy": "2022-01-25T13:06:36.295662Z",
     "iopub.status.idle": "2022-01-25T13:06:36.299233Z",
     "shell.execute_reply": "2022-01-25T13:06:36.299798Z",
     "shell.execute_reply.started": "2022-01-25T13:02:18.002897Z"
    },
    "papermill": {
     "duration": 0.052794,
     "end_time": "2022-01-25T13:06:36.300024",
     "exception": false,
     "start_time": "2022-01-25T13:06:36.247230",
     "status": "completed"
    },
    "tags": []
   },
   "outputs": [],
   "source": [
    "cv = CountVectorizer(max_features = 1000)"
   ]
  },
  {
   "cell_type": "code",
   "execution_count": 31,
   "id": "25e89074",
   "metadata": {
    "execution": {
     "iopub.execute_input": "2022-01-25T13:06:36.394361Z",
     "iopub.status.busy": "2022-01-25T13:06:36.393661Z",
     "iopub.status.idle": "2022-01-25T13:06:36.655126Z",
     "shell.execute_reply": "2022-01-25T13:06:36.654468Z",
     "shell.execute_reply.started": "2022-01-25T13:02:18.016425Z"
    },
    "papermill": {
     "duration": 0.309971,
     "end_time": "2022-01-25T13:06:36.655294",
     "exception": false,
     "start_time": "2022-01-25T13:06:36.345323",
     "status": "completed"
    },
    "tags": []
   },
   "outputs": [],
   "source": [
    "x = cv.fit_transform(train[\"text\"]).toarray()"
   ]
  },
  {
   "cell_type": "code",
   "execution_count": 32,
   "id": "cf4a01b0",
   "metadata": {
    "execution": {
     "iopub.execute_input": "2022-01-25T13:06:36.754574Z",
     "iopub.status.busy": "2022-01-25T13:06:36.753468Z",
     "iopub.status.idle": "2022-01-25T13:06:36.755650Z",
     "shell.execute_reply": "2022-01-25T13:06:36.756291Z",
     "shell.execute_reply.started": "2022-01-25T13:02:18.253897Z"
    },
    "papermill": {
     "duration": 0.05431,
     "end_time": "2022-01-25T13:06:36.756499",
     "exception": false,
     "start_time": "2022-01-25T13:06:36.702189",
     "status": "completed"
    },
    "tags": []
   },
   "outputs": [],
   "source": [
    "y = train[\"target\"]"
   ]
  },
  {
   "cell_type": "code",
   "execution_count": 33,
   "id": "dfaf54ab",
   "metadata": {
    "execution": {
     "iopub.execute_input": "2022-01-25T13:06:36.856131Z",
     "iopub.status.busy": "2022-01-25T13:06:36.855035Z",
     "iopub.status.idle": "2022-01-25T13:06:36.857813Z",
     "shell.execute_reply": "2022-01-25T13:06:36.857275Z",
     "shell.execute_reply.started": "2022-01-25T13:02:18.260937Z"
    },
    "papermill": {
     "duration": 0.055703,
     "end_time": "2022-01-25T13:06:36.857991",
     "exception": false,
     "start_time": "2022-01-25T13:06:36.802288",
     "status": "completed"
    },
    "tags": []
   },
   "outputs": [],
   "source": [
    "from sklearn.model_selection import train_test_split"
   ]
  },
  {
   "cell_type": "code",
   "execution_count": 34,
   "id": "d5df65c8",
   "metadata": {
    "execution": {
     "iopub.execute_input": "2022-01-25T13:06:36.957591Z",
     "iopub.status.busy": "2022-01-25T13:06:36.956881Z",
     "iopub.status.idle": "2022-01-25T13:06:37.007280Z",
     "shell.execute_reply": "2022-01-25T13:06:37.007838Z",
     "shell.execute_reply.started": "2022-01-25T13:02:18.273553Z"
    },
    "papermill": {
     "duration": 0.104092,
     "end_time": "2022-01-25T13:06:37.008062",
     "exception": false,
     "start_time": "2022-01-25T13:06:36.903970",
     "status": "completed"
    },
    "tags": []
   },
   "outputs": [],
   "source": [
    "x_train,x_test, y_train, y_test = train_test_split(x,y, test_size = 0.2, random_state = 9)"
   ]
  },
  {
   "cell_type": "code",
   "execution_count": 35,
   "id": "b0f5498b",
   "metadata": {
    "execution": {
     "iopub.execute_input": "2022-01-25T13:06:37.105145Z",
     "iopub.status.busy": "2022-01-25T13:06:37.104111Z",
     "iopub.status.idle": "2022-01-25T13:06:37.111931Z",
     "shell.execute_reply": "2022-01-25T13:06:37.112547Z",
     "shell.execute_reply.started": "2022-01-25T13:02:18.320659Z"
    },
    "papermill": {
     "duration": 0.058029,
     "end_time": "2022-01-25T13:06:37.112745",
     "exception": false,
     "start_time": "2022-01-25T13:06:37.054716",
     "status": "completed"
    },
    "tags": []
   },
   "outputs": [
    {
     "data": {
      "text/plain": [
       "0    0.568473\n",
       "1    0.431527\n",
       "Name: target, dtype: float64"
      ]
     },
     "execution_count": 35,
     "metadata": {},
     "output_type": "execute_result"
    }
   ],
   "source": [
    "y_train.value_counts(normalize = True)"
   ]
  },
  {
   "cell_type": "code",
   "execution_count": 36,
   "id": "3d76e396",
   "metadata": {
    "execution": {
     "iopub.execute_input": "2022-01-25T13:06:37.210076Z",
     "iopub.status.busy": "2022-01-25T13:06:37.209352Z",
     "iopub.status.idle": "2022-01-25T13:06:37.364368Z",
     "shell.execute_reply": "2022-01-25T13:06:37.364951Z",
     "shell.execute_reply.started": "2022-01-25T13:02:18.329495Z"
    },
    "papermill": {
     "duration": 0.206179,
     "end_time": "2022-01-25T13:06:37.365162",
     "exception": false,
     "start_time": "2022-01-25T13:06:37.158983",
     "status": "completed"
    },
    "tags": []
   },
   "outputs": [],
   "source": [
    "import seaborn as sns"
   ]
  },
  {
   "cell_type": "code",
   "execution_count": 37,
   "id": "382cfb52",
   "metadata": {
    "execution": {
     "iopub.execute_input": "2022-01-25T13:06:37.463660Z",
     "iopub.status.busy": "2022-01-25T13:06:37.462891Z",
     "iopub.status.idle": "2022-01-25T13:06:37.754905Z",
     "shell.execute_reply": "2022-01-25T13:06:37.755580Z",
     "shell.execute_reply.started": "2022-01-25T13:02:18.603039Z"
    },
    "papermill": {
     "duration": 0.343423,
     "end_time": "2022-01-25T13:06:37.755796",
     "exception": false,
     "start_time": "2022-01-25T13:06:37.412373",
     "status": "completed"
    },
    "tags": []
   },
   "outputs": [
    {
     "name": "stderr",
     "output_type": "stream",
     "text": [
      "/opt/conda/lib/python3.7/site-packages/seaborn/distributions.py:2619: FutureWarning: `distplot` is a deprecated function and will be removed in a future version. Please adapt your code to use either `displot` (a figure-level function with similar flexibility) or `histplot` (an axes-level function for histograms).\n",
      "  warnings.warn(msg, FutureWarning)\n"
     ]
    },
    {
     "data": {
      "text/plain": [
       "<AxesSubplot:xlabel='target', ylabel='Density'>"
      ]
     },
     "execution_count": 37,
     "metadata": {},
     "output_type": "execute_result"
    },
    {
     "data": {
      "image/png": "[encoded data removed]",
      "text/plain": [
       "<Figure size 432x288 with 1 Axes>"
      ]
     },
     "metadata": {
      "needs_background": "light"
     },
     "output_type": "display_data"
    }
   ],
   "source": [
    "sns.distplot(train[\"target\"])"
   ]
  },
  {
   "cell_type": "code",
   "execution_count": 38,
   "id": "9936951b",
   "metadata": {
    "execution": {
     "iopub.execute_input": "2022-01-25T13:06:37.855272Z",
     "iopub.status.busy": "2022-01-25T13:06:37.854445Z",
     "iopub.status.idle": "2022-01-25T13:06:37.861120Z",
     "shell.execute_reply": "2022-01-25T13:06:37.861650Z",
     "shell.execute_reply.started": "2022-01-25T13:02:18.910941Z"
    },
    "papermill": {
     "duration": 0.058489,
     "end_time": "2022-01-25T13:06:37.861909",
     "exception": false,
     "start_time": "2022-01-25T13:06:37.803420",
     "status": "completed"
    },
    "tags": []
   },
   "outputs": [],
   "source": [
    "from sklearn.naive_bayes import MultinomialNB, GaussianNB, BernoulliNB"
   ]
  },
  {
   "cell_type": "code",
   "execution_count": 39,
   "id": "c43c1ec7",
   "metadata": {
    "execution": {
     "iopub.execute_input": "2022-01-25T13:06:37.966168Z",
     "iopub.status.busy": "2022-01-25T13:06:37.964960Z",
     "iopub.status.idle": "2022-01-25T13:06:37.969750Z",
     "shell.execute_reply": "2022-01-25T13:06:37.970643Z",
     "shell.execute_reply.started": "2022-01-25T13:02:18.919519Z"
    },
    "papermill": {
     "duration": 0.059615,
     "end_time": "2022-01-25T13:06:37.970918",
     "exception": false,
     "start_time": "2022-01-25T13:06:37.911303",
     "status": "completed"
    },
    "tags": []
   },
   "outputs": [],
   "source": [
    "m,g,b = MultinomialNB(),GaussianNB(), BernoulliNB()"
   ]
  },
  {
   "cell_type": "code",
   "execution_count": 40,
   "id": "8babd59b",
   "metadata": {
    "execution": {
     "iopub.execute_input": "2022-01-25T13:06:38.074651Z",
     "iopub.status.busy": "2022-01-25T13:06:38.073379Z",
     "iopub.status.idle": "2022-01-25T13:06:38.133351Z",
     "shell.execute_reply": "2022-01-25T13:06:38.132573Z",
     "shell.execute_reply.started": "2022-01-25T13:02:18.929231Z"
    },
    "papermill": {
     "duration": 0.114204,
     "end_time": "2022-01-25T13:06:38.133520",
     "exception": false,
     "start_time": "2022-01-25T13:06:38.019316",
     "status": "completed"
    },
    "tags": []
   },
   "outputs": [
    {
     "data": {
      "text/plain": [
       "MultinomialNB()"
      ]
     },
     "execution_count": 40,
     "metadata": {},
     "output_type": "execute_result"
    }
   ],
   "source": [
    "m.fit(x_train, y_train)"
   ]
  },
  {
   "cell_type": "code",
   "execution_count": 41,
   "id": "3688a4d3",
   "metadata": {
    "execution": {
     "iopub.execute_input": "2022-01-25T13:06:38.238430Z",
     "iopub.status.busy": "2022-01-25T13:06:38.237606Z",
     "iopub.status.idle": "2022-01-25T13:06:38.260676Z",
     "shell.execute_reply": "2022-01-25T13:06:38.258895Z",
     "shell.execute_reply.started": "2022-01-25T13:02:18.991716Z"
    },
    "papermill": {
     "duration": 0.078296,
     "end_time": "2022-01-25T13:06:38.261211",
     "exception": false,
     "start_time": "2022-01-25T13:06:38.182915",
     "status": "completed"
    },
    "tags": []
   },
   "outputs": [],
   "source": [
    "predict = m.predict(x_test)"
   ]
  },
  {
   "cell_type": "code",
   "execution_count": 42,
   "id": "2795e536",
   "metadata": {
    "execution": {
     "iopub.execute_input": "2022-01-25T13:06:38.417042Z",
     "iopub.status.busy": "2022-01-25T13:06:38.416056Z",
     "iopub.status.idle": "2022-01-25T13:06:38.418696Z",
     "shell.execute_reply": "2022-01-25T13:06:38.418148Z",
     "shell.execute_reply.started": "2022-01-25T13:02:19.013242Z"
    },
    "papermill": {
     "duration": 0.0628,
     "end_time": "2022-01-25T13:06:38.418875",
     "exception": false,
     "start_time": "2022-01-25T13:06:38.356075",
     "status": "completed"
    },
    "tags": []
   },
   "outputs": [],
   "source": [
    "actual = y_test"
   ]
  },
  {
   "cell_type": "code",
   "execution_count": 43,
   "id": "919f1475",
   "metadata": {
    "execution": {
     "iopub.execute_input": "2022-01-25T13:06:38.520794Z",
     "iopub.status.busy": "2022-01-25T13:06:38.520053Z",
     "iopub.status.idle": "2022-01-25T13:06:38.523766Z",
     "shell.execute_reply": "2022-01-25T13:06:38.524365Z",
     "shell.execute_reply.started": "2022-01-25T13:02:19.021975Z"
    },
    "papermill": {
     "duration": 0.056489,
     "end_time": "2022-01-25T13:06:38.524565",
     "exception": false,
     "start_time": "2022-01-25T13:06:38.468076",
     "status": "completed"
    },
    "tags": []
   },
   "outputs": [],
   "source": [
    "from sklearn.metrics import accuracy_score"
   ]
  },
  {
   "cell_type": "code",
   "execution_count": 44,
   "id": "124caece",
   "metadata": {
    "execution": {
     "iopub.execute_input": "2022-01-25T13:06:38.625269Z",
     "iopub.status.busy": "2022-01-25T13:06:38.624557Z",
     "iopub.status.idle": "2022-01-25T13:06:38.823593Z",
     "shell.execute_reply": "2022-01-25T13:06:38.822964Z",
     "shell.execute_reply.started": "2022-01-25T13:02:19.034636Z"
    },
    "papermill": {
     "duration": 0.25139,
     "end_time": "2022-01-25T13:06:38.823755",
     "exception": false,
     "start_time": "2022-01-25T13:06:38.572365",
     "status": "completed"
    },
    "tags": []
   },
   "outputs": [
    {
     "data": {
      "text/plain": [
       "77.93827971109653"
      ]
     },
     "execution_count": 44,
     "metadata": {},
     "output_type": "execute_result"
    }
   ],
   "source": [
    "accuracy_score(predict, actual)*100"
   ]
  },
  {
   "cell_type": "markdown",
   "id": "8f665161",
   "metadata": {
    "papermill": {
     "duration": 0.04729,
     "end_time": "2022-01-25T13:06:38.920355",
     "exception": false,
     "start_time": "2022-01-25T13:06:38.873065",
     "status": "completed"
    },
    "tags": []
   },
   "source": []
  },
  {
   "cell_type": "code",
   "execution_count": 45,
   "id": "61a04150",
   "metadata": {
    "execution": {
     "iopub.execute_input": "2022-01-25T13:06:39.023604Z",
     "iopub.status.busy": "2022-01-25T13:06:39.022873Z",
     "iopub.status.idle": "2022-01-25T13:06:39.025630Z",
     "shell.execute_reply": "2022-01-25T13:06:39.024970Z",
     "shell.execute_reply.started": "2022-01-25T13:02:19.051985Z"
    },
    "papermill": {
     "duration": 0.055584,
     "end_time": "2022-01-25T13:06:39.025788",
     "exception": false,
     "start_time": "2022-01-25T13:06:38.970204",
     "status": "completed"
    },
    "tags": []
   },
   "outputs": [],
   "source": [
    "submission_df = pd.DataFrame(train)"
   ]
  },
  {
   "cell_type": "code",
   "execution_count": 46,
   "id": "31995eef",
   "metadata": {
    "execution": {
     "iopub.execute_input": "2022-01-25T13:06:39.146054Z",
     "iopub.status.busy": "2022-01-25T13:06:39.144984Z",
     "iopub.status.idle": "2022-01-25T13:06:39.147735Z",
     "shell.execute_reply": "2022-01-25T13:06:39.148610Z",
     "shell.execute_reply.started": "2022-01-25T13:02:19.063066Z"
    },
    "papermill": {
     "duration": 0.073079,
     "end_time": "2022-01-25T13:06:39.148890",
     "exception": false,
     "start_time": "2022-01-25T13:06:39.075811",
     "status": "completed"
    },
    "tags": []
   },
   "outputs": [],
   "source": [
    "sub=submission_df[['id', 'target']]"
   ]
  },
  {
   "cell_type": "code",
   "execution_count": 47,
   "id": "7a94d829",
   "metadata": {
    "execution": {
     "iopub.execute_input": "2022-01-25T13:06:39.288980Z",
     "iopub.status.busy": "2022-01-25T13:06:39.287910Z",
     "iopub.status.idle": "2022-01-25T13:06:39.306412Z",
     "shell.execute_reply": "2022-01-25T13:06:39.307212Z",
     "shell.execute_reply.started": "2022-01-25T13:02:19.077600Z"
    },
    "papermill": {
     "duration": 0.079868,
     "end_time": "2022-01-25T13:06:39.307497",
     "exception": false,
     "start_time": "2022-01-25T13:06:39.227629",
     "status": "completed"
    },
    "tags": []
   },
   "outputs": [
    {
     "data": {
      "text/html": [
       "<div>\n",
       "<style scoped>\n",
       "    .dataframe tbody tr th:only-of-type {\n",
       "        vertical-align: middle;\n",
       "    }\n",
       "\n",
       "    .dataframe tbody tr th {\n",
       "        vertical-align: top;\n",
       "    }\n",
       "\n",
       "    .dataframe thead th {\n",
       "        text-align: right;\n",
       "    }\n",
       "</style>\n",
       "<table border=\"1\" class=\"dataframe\">\n",
       "  <thead>\n",
       "    <tr style=\"text-align: right;\">\n",
       "      <th></th>\n",
       "      <th>id</th>\n",
       "      <th>target</th>\n",
       "    </tr>\n",
       "  </thead>\n",
       "  <tbody>\n",
       "    <tr>\n",
       "      <th>0</th>\n",
       "      <td>1</td>\n",
       "      <td>1</td>\n",
       "    </tr>\n",
       "    <tr>\n",
       "      <th>1</th>\n",
       "      <td>4</td>\n",
       "      <td>1</td>\n",
       "    </tr>\n",
       "    <tr>\n",
       "      <th>2</th>\n",
       "      <td>5</td>\n",
       "      <td>1</td>\n",
       "    </tr>\n",
       "    <tr>\n",
       "      <th>3</th>\n",
       "      <td>6</td>\n",
       "      <td>1</td>\n",
       "    </tr>\n",
       "    <tr>\n",
       "      <th>4</th>\n",
       "      <td>7</td>\n",
       "      <td>1</td>\n",
       "    </tr>\n",
       "    <tr>\n",
       "      <th>...</th>\n",
       "      <td>...</td>\n",
       "      <td>...</td>\n",
       "    </tr>\n",
       "    <tr>\n",
       "      <th>7608</th>\n",
       "      <td>10869</td>\n",
       "      <td>1</td>\n",
       "    </tr>\n",
       "    <tr>\n",
       "      <th>7609</th>\n",
       "      <td>10870</td>\n",
       "      <td>1</td>\n",
       "    </tr>\n",
       "    <tr>\n",
       "      <th>7610</th>\n",
       "      <td>10871</td>\n",
       "      <td>1</td>\n",
       "    </tr>\n",
       "    <tr>\n",
       "      <th>7611</th>\n",
       "      <td>10872</td>\n",
       "      <td>1</td>\n",
       "    </tr>\n",
       "    <tr>\n",
       "      <th>7612</th>\n",
       "      <td>10873</td>\n",
       "      <td>1</td>\n",
       "    </tr>\n",
       "  </tbody>\n",
       "</table>\n",
       "<p>7613 rows × 2 columns</p>\n",
       "</div>"
      ],
      "text/plain": [
       "         id  target\n",
       "0         1       1\n",
       "1         4       1\n",
       "2         5       1\n",
       "3         6       1\n",
       "4         7       1\n",
       "...     ...     ...\n",
       "7608  10869       1\n",
       "7609  10870       1\n",
       "7610  10871       1\n",
       "7611  10872       1\n",
       "7612  10873       1\n",
       "\n",
       "[7613 rows x 2 columns]"
      ]
     },
     "execution_count": 47,
     "metadata": {},
     "output_type": "execute_result"
    }
   ],
   "source": [
    "sub"
   ]
  },
  {
   "cell_type": "code",
   "execution_count": null,
   "id": "0e04e8cb",
   "metadata": {
    "papermill": {
     "duration": 0.054581,
     "end_time": "2022-01-25T13:06:39.417019",
     "exception": false,
     "start_time": "2022-01-25T13:06:39.362438",
     "status": "completed"
    },
    "tags": []
   },
   "outputs": [],
   "source": []
  },
  {
   "cell_type": "code",
   "execution_count": null,
   "id": "bf11bd08",
   "metadata": {
    "papermill": {
     "duration": 0.05178,
     "end_time": "2022-01-25T13:06:39.525369",
     "exception": false,
     "start_time": "2022-01-25T13:06:39.473589",
     "status": "completed"
    },
    "tags": []
   },
   "outputs": [],
   "source": []
  }
 ],
 "metadata": {
  "kernelspec": {
   "display_name": "Python 3",
   "language": "python",
   "name": "python3"
  },
  "language_info": {
   "codemirror_mode": {
    "name": "ipython",
    "version": 3
   },
   "file_extension": ".py",
   "mimetype": "text/x-python",
   "name": "python",
   "nbconvert_exporter": "python",
   "pygments_lexer": "ipython3",
   "version": "3.7.12"
  },
  "papermill": {
   "default_parameters": {},
   "duration": 26.119837,
   "end_time": "2022-01-25T13:06:40.689008",
   "environment_variables": {},
   "exception": null,
   "input_path": "__notebook__.ipynb",
   "output_path": "__notebook__.ipynb",
   "parameters": {},
   "start_time": "2022-01-25T13:06:14.569171",
   "version": "2.3.3"
  }
 },
 "nbformat": 4,
 "nbformat_minor": 5
}

